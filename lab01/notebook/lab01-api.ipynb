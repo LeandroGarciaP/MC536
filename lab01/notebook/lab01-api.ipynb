{
 "cells": [
  {
   "cell_type": "markdown",
   "metadata": {},
   "source": [
    "# Lab 1 - API de Acesso a Dados "
   ]
  },
  {
   "cell_type": "markdown",
   "metadata": {},
   "source": [
    "# Tarefa 1\n",
    "\n",
    "Das fontes de dados disponíveis, tente encontrar fontes com formatos diferentes e importá-las via Python. Busque pelo menos dois formatos."
   ]
  },
  {
   "cell_type": "code",
   "execution_count": 2,
   "metadata": {},
   "outputs": [
    {
     "name": "stdout",
     "output_type": "stream",
     "text": [
      "{\"results\":[{\"id\":716426,\"title\":\"Cauliflower, Brown Rice, and Vegetable Fried Rice\",\"image\":\"https://spoonacular.com/recipeImages/716426-312x231.jpg\",\"imageType\":\"jpg\"},{\"id\":715594,\"title\":\"Homemade Garlic and Basil French Fries\",\"image\":\"https://spoonacular.com/recipeImages/715594-312x231.jpg\",\"imageType\":\"jpg\"},{\"id\":715497,\"title\":\"Berry Banana Breakfast Smoothie\",\"image\":\"https://spoonacular.com/recipeImages/715497-312x231.jpg\",\"imageType\":\"jpg\"},{\"id\":644387,\"title\":\"Garlicky Kale\",\"image\":\"https://spoonacular.com/recipeImages/644387-312x231.jpg\",\"imageType\":\"jpg\"},{\"id\":715392,\"title\":\"Chicken Tortilla Soup (Slow Cooker)\",\"image\":\"https://spoonacular.com/recipeImages/715392-312x231.jpg\",\"imageType\":\"jpg\"},{\"id\":716268,\"title\":\"African Chicken Peanut Stew\",\"image\":\"https://spoonacular.com/recipeImages/716268-312x231.jpg\",\"imageType\":\"jpg\"},{\"id\":716381,\"title\":\"Nigerian Snail Stew\",\"image\":\"https://spoonacular.com/recipeImages/716381-312x231.jpg\",\"imageType\":\"jpg\"},{\"id\":782601,\"title\":\"Red Kidney Bean Jambalaya\",\"image\":\"https://spoonacular.com/recipeImages/782601-312x231.jpg\",\"imageType\":\"jpg\"},{\"id\":794349,\"title\":\"Broccoli and Chickpea Rice Salad\",\"image\":\"https://spoonacular.com/recipeImages/794349-312x231.jpg\",\"imageType\":\"jpg\"},{\"id\":715446,\"title\":\"Slow Cooker Beef Stew\",\"image\":\"https://spoonacular.com/recipeImages/715446-312x231.jpg\",\"imageType\":\"jpg\"}],\"offset\":0,\"number\":10,\"totalResults\":5078}\n"
     ]
    }
   ],
   "source": [
    "import panda as pd\n",
    "url=\"http://i3geo.saude.gov.br/i3geo/ogc.php?service=WFS&version=1.0.0&request=GetFeature&typeName=ubs_construcao&outputFormat=CSV\"\n",
    "data = pd.read_csv(url)\n",
    "data(head)"
   ]
  },
  {
   "cell_type": "code",
   "execution_count": 7,
   "metadata": {},
   "outputs": [
    {
     "name": "stdout",
     "output_type": "stream",
     "text": [
      "[{\"MAX(ac.country_code)\":\"US\",\"lat\":37.09024,\"lng\":-95.712891,\"country\":\"USA\",\"daily_cases\":98089,\"daily_deaths\":838,\"last_updated\":\"2021-08-26T21:21:00.000Z\"},{\"MAX(ac.country_code)\":\"IN\",\"lat\":20.593684,\"lng\":78.96288,\"country\":\"India\",\"daily_cases\":44558,\"daily_deaths\":493,\"last_updated\":\"2021-08-26T21:21:00.000Z\"},{\"MAX(ac.country_code)\":\"GB\",\"lat\":55.378051,\"lng\":-3.435973,\"country\":\"UK\",\"daily_cases\":38281,\"daily_deaths\":140,\"last_updated\":\"2021-08-26T21:21:00.000Z\"},{\"MAX(ac.country_code)\":\"IR\",\"lat\":32.427908,\"lng\":53.688046,\"country\":\"Iran\",\"daily_cases\":36758,\"daily_deaths\":694,\"last_updated\":\"2021-08-26T21:21:00.000Z\"},{\"MAX(ac.country_code)\":\"BR\",\"lat\":-14.235004,\"lng\":-51.92528,\"country\":\"Brazil\",\"daily_cases\":31024,\"daily_deaths\":835,\"last_updated\":\"2021-08-26T21:21:00.000Z\"}]\n"
     ]
    }
   ],
   "source": [
    "import io\n",
    "import requests\n",
    "import json\n",
    "url=\"http://api.coronatracker.com/v5/analytics/dailyNewStats?limit=5\"\n",
    "js = requests.get(url).content\n",
    "print(js.decode(\"utf-8\"))"
   ]
  },
  {
   "cell_type": "markdown",
   "metadata": {},
   "source": [
    "# Tarefa 2\n",
    "\n",
    "## Engenharia reversa\n",
    "\n",
    "Monte um diagramas que representem modelos dos dados que você terá acesso e como pretende associá-los. Coloque abaixo uma imagem do diagrama."
   ]
  },
  {
   "cell_type": "code",
   "execution_count": null,
   "metadata": {},
   "outputs": [],
   "source": []
  }
 ],
 "metadata": {
  "kernelspec": {
   "display_name": "Python 3",
   "language": "python",
   "name": "python3"
  },
  "language_info": {
   "codemirror_mode": {
    "name": "ipython",
    "version": 3
   },
   "file_extension": ".py",
   "mimetype": "text/x-python",
   "name": "python",
   "nbconvert_exporter": "python",
   "pygments_lexer": "ipython3",
   "version": "3.7.10"
  }
 },
 "nbformat": 4,
 "nbformat_minor": 4
}
