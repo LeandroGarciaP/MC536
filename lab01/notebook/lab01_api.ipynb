{
  "nbformat": 4,
  "nbformat_minor": 0,
  "metadata": {
    "kernelspec": {
      "display_name": "Python 3",
      "language": "python",
      "name": "python3"
    },
    "language_info": {
      "codemirror_mode": {
        "name": "ipython",
        "version": 3
      },
      "file_extension": ".py",
      "mimetype": "text/x-python",
      "name": "python",
      "nbconvert_exporter": "python",
      "pygments_lexer": "ipython3",
      "version": "3.7.10"
    },
    "toc": {
      "base_numbering": 1,
      "nav_menu": {},
      "number_sections": false,
      "sideBar": false,
      "skip_h1_title": false,
      "title_cell": "Table of Contents",
      "title_sidebar": "Contents",
      "toc_cell": false,
      "toc_position": {},
      "toc_section_display": false,
      "toc_window_display": false
    },
    "colab": {
      "name": "lab01-api.ipynb",
      "provenance": [],
      "collapsed_sections": []
    }
  },
  "cells": [
    {
      "cell_type": "markdown",
      "metadata": {
        "id": "T-Ty97l3Gukb"
      },
      "source": [
        "# Lab 1 - API de Acesso a Dados"
      ]
    },
    {
      "cell_type": "markdown",
      "metadata": {
        "id": "SAhnftKZGukc"
      },
      "source": [
        "# Tarefa 1\n",
        "\n",
        "Das fontes de dados disponíveis, tente encontrar fontes com formatos diferentes e importá-las via Python. Busque pelo menos dois formatos."
      ]
    },
    {
      "cell_type": "code",
      "metadata": {
        "colab": {
          "base_uri": "https://localhost:8080/",
          "height": 514
        },
        "id": "Qp9Va9K5Gukd",
        "outputId": "8e032ff0-ec98-45bc-f4b2-9712c7d571b3"
      },
      "source": [
        "import pandas as pd\n",
        "url =\"http://i3geo.saude.gov.br/i3geo/ogc.php?service=WFS&version=1.0.0&request=GetFeature&typeName=ubs_construcao&outputFormat=CSV\"\n",
        "data = pd.read_csv(url)\n",
        "data.head(15)"
      ],
      "execution_count": 10,
      "outputs": [
        {
          "output_type": "execute_result",
          "data": {
            "text/html": [
              "<div>\n",
              "<style scoped>\n",
              "    .dataframe tbody tr th:only-of-type {\n",
              "        vertical-align: middle;\n",
              "    }\n",
              "\n",
              "    .dataframe tbody tr th {\n",
              "        vertical-align: top;\n",
              "    }\n",
              "\n",
              "    .dataframe thead th {\n",
              "        text-align: right;\n",
              "    }\n",
              "</style>\n",
              "<table border=\"1\" class=\"dataframe\">\n",
              "  <thead>\n",
              "    <tr style=\"text-align: right;\">\n",
              "      <th></th>\n",
              "      <th>no_cidade</th>\n",
              "      <th>nome_da_nidade</th>\n",
              "      <th>gid</th>\n",
              "      <th>valor</th>\n",
              "      <th>taxa</th>\n",
              "    </tr>\n",
              "  </thead>\n",
              "  <tbody>\n",
              "    <tr>\n",
              "      <th>0</th>\n",
              "      <td>Palminópolis</td>\n",
              "      <td>&lt;i&gt;Palminópolis&lt;/i&gt;</td>\n",
              "      <td>7616</td>\n",
              "      <td>&lt;b&gt;0&lt;/b&gt;</td>\n",
              "      <td>0</td>\n",
              "    </tr>\n",
              "    <tr>\n",
              "      <th>1</th>\n",
              "      <td>Ituberá</td>\n",
              "      <td>&lt;i&gt;Ituberá&lt;/i&gt;</td>\n",
              "      <td>7965</td>\n",
              "      <td>&lt;b&gt;2&lt;/b&gt;</td>\n",
              "      <td>2</td>\n",
              "    </tr>\n",
              "    <tr>\n",
              "      <th>2</th>\n",
              "      <td>Piau</td>\n",
              "      <td>&lt;i&gt;Piau&lt;/i&gt;</td>\n",
              "      <td>10796</td>\n",
              "      <td>&lt;b&gt;0&lt;/b&gt;</td>\n",
              "      <td>0</td>\n",
              "    </tr>\n",
              "    <tr>\n",
              "      <th>3</th>\n",
              "      <td>Pato Branco</td>\n",
              "      <td>&lt;i&gt;Pato Branco&lt;/i&gt;</td>\n",
              "      <td>5990</td>\n",
              "      <td>&lt;b&gt;6&lt;/b&gt;</td>\n",
              "      <td>6</td>\n",
              "    </tr>\n",
              "    <tr>\n",
              "      <th>4</th>\n",
              "      <td>João Neiva</td>\n",
              "      <td>&lt;i&gt;João Neiva&lt;/i&gt;</td>\n",
              "      <td>11105</td>\n",
              "      <td>&lt;b&gt;1&lt;/b&gt;</td>\n",
              "      <td>1</td>\n",
              "    </tr>\n",
              "    <tr>\n",
              "      <th>5</th>\n",
              "      <td>Mesópolis</td>\n",
              "      <td>&lt;i&gt;Mesópolis&lt;/i&gt;</td>\n",
              "      <td>8604</td>\n",
              "      <td>&lt;b&gt;0&lt;/b&gt;</td>\n",
              "      <td>0</td>\n",
              "    </tr>\n",
              "    <tr>\n",
              "      <th>6</th>\n",
              "      <td>Vitor Meireles</td>\n",
              "      <td>&lt;i&gt;Vitor Meireles&lt;/i&gt;</td>\n",
              "      <td>6421</td>\n",
              "      <td>&lt;b&gt;1&lt;/b&gt;</td>\n",
              "      <td>1</td>\n",
              "    </tr>\n",
              "    <tr>\n",
              "      <th>7</th>\n",
              "      <td>Ivorá</td>\n",
              "      <td>&lt;i&gt;Ivorá&lt;/i&gt;</td>\n",
              "      <td>9488</td>\n",
              "      <td>&lt;b&gt;0&lt;/b&gt;</td>\n",
              "      <td>0</td>\n",
              "    </tr>\n",
              "    <tr>\n",
              "      <th>8</th>\n",
              "      <td>Doutor Severiano</td>\n",
              "      <td>&lt;i&gt;Doutor Severiano&lt;/i&gt;</td>\n",
              "      <td>6462</td>\n",
              "      <td>&lt;b&gt;0&lt;/b&gt;</td>\n",
              "      <td>0</td>\n",
              "    </tr>\n",
              "    <tr>\n",
              "      <th>9</th>\n",
              "      <td>Nova Olinda do Norte</td>\n",
              "      <td>&lt;i&gt;Nova Olinda do Norte&lt;/i&gt;</td>\n",
              "      <td>10177</td>\n",
              "      <td>&lt;b&gt;3&lt;/b&gt;</td>\n",
              "      <td>3</td>\n",
              "    </tr>\n",
              "    <tr>\n",
              "      <th>10</th>\n",
              "      <td>Monjolos</td>\n",
              "      <td>&lt;i&gt;Monjolos&lt;/i&gt;</td>\n",
              "      <td>10702</td>\n",
              "      <td>&lt;b&gt;0&lt;/b&gt;</td>\n",
              "      <td>0</td>\n",
              "    </tr>\n",
              "    <tr>\n",
              "      <th>11</th>\n",
              "      <td>Américo de Campos</td>\n",
              "      <td>&lt;i&gt;Américo de Campos&lt;/i&gt;</td>\n",
              "      <td>8291</td>\n",
              "      <td>&lt;b&gt;1&lt;/b&gt;</td>\n",
              "      <td>1</td>\n",
              "    </tr>\n",
              "    <tr>\n",
              "      <th>12</th>\n",
              "      <td>Terenos</td>\n",
              "      <td>&lt;i&gt;Terenos&lt;/i&gt;</td>\n",
              "      <td>9845</td>\n",
              "      <td>&lt;b&gt;1&lt;/b&gt;</td>\n",
              "      <td>1</td>\n",
              "    </tr>\n",
              "    <tr>\n",
              "      <th>13</th>\n",
              "      <td>Curralinho</td>\n",
              "      <td>&lt;i&gt;Curralinho&lt;/i&gt;</td>\n",
              "      <td>5616</td>\n",
              "      <td>&lt;b&gt;11&lt;/b&gt;</td>\n",
              "      <td>11</td>\n",
              "    </tr>\n",
              "    <tr>\n",
              "      <th>14</th>\n",
              "      <td>Barão do Triunfo</td>\n",
              "      <td>&lt;i&gt;Barão do Triunfo&lt;/i&gt;</td>\n",
              "      <td>9305</td>\n",
              "      <td>&lt;b&gt;0&lt;/b&gt;</td>\n",
              "      <td>0</td>\n",
              "    </tr>\n",
              "  </tbody>\n",
              "</table>\n",
              "</div>"
            ],
            "text/plain": [
              "               no_cidade               nome_da_nidade    gid      valor  taxa\n",
              "0           Palminópolis          <i>Palminópolis</i>   7616   <b>0</b>     0\n",
              "1                Ituberá               <i>Ituberá</i>   7965   <b>2</b>     2\n",
              "2                   Piau                  <i>Piau</i>  10796   <b>0</b>     0\n",
              "3            Pato Branco           <i>Pato Branco</i>   5990   <b>6</b>     6\n",
              "4             João Neiva            <i>João Neiva</i>  11105   <b>1</b>     1\n",
              "5              Mesópolis             <i>Mesópolis</i>   8604   <b>0</b>     0\n",
              "6         Vitor Meireles        <i>Vitor Meireles</i>   6421   <b>1</b>     1\n",
              "7                  Ivorá                 <i>Ivorá</i>   9488   <b>0</b>     0\n",
              "8       Doutor Severiano      <i>Doutor Severiano</i>   6462   <b>0</b>     0\n",
              "9   Nova Olinda do Norte  <i>Nova Olinda do Norte</i>  10177   <b>3</b>     3\n",
              "10              Monjolos              <i>Monjolos</i>  10702   <b>0</b>     0\n",
              "11     Américo de Campos     <i>Américo de Campos</i>   8291   <b>1</b>     1\n",
              "12               Terenos               <i>Terenos</i>   9845   <b>1</b>     1\n",
              "13            Curralinho            <i>Curralinho</i>   5616  <b>11</b>    11\n",
              "14      Barão do Triunfo      <i>Barão do Triunfo</i>   9305   <b>0</b>     0"
            ]
          },
          "metadata": {},
          "execution_count": 10
        }
      ]
    },
    {
      "cell_type": "code",
      "metadata": {
        "colab": {
          "base_uri": "https://localhost:8080/"
        },
        "id": "_vp8auU3Guke",
        "outputId": "6e42027c-8a94-40cc-b644-924a3ed5804d"
      },
      "source": [
        "import io\n",
        "import requests\n",
        "import json\n",
        "url = \"http://api.coronatracker.com/v5/analytics/dailyNewStats?limit=5\"\n",
        "js = requests.get(url).content\n",
        "print(js.decode(\"utf-8\"))"
      ],
      "execution_count": null,
      "outputs": [
        {
          "output_type": "stream",
          "text": [
            "[{\"MAX(ac.country_code)\":\"US\",\"lat\":37.09024,\"lng\":-95.712891,\"country\":\"USA\",\"daily_cases\":98089,\"daily_deaths\":838,\"last_updated\":\"2021-08-26T21:21:00.000Z\"},{\"MAX(ac.country_code)\":\"IN\",\"lat\":20.593684,\"lng\":78.96288,\"country\":\"India\",\"daily_cases\":44558,\"daily_deaths\":493,\"last_updated\":\"2021-08-26T21:21:00.000Z\"},{\"MAX(ac.country_code)\":\"GB\",\"lat\":55.378051,\"lng\":-3.435973,\"country\":\"UK\",\"daily_cases\":38281,\"daily_deaths\":140,\"last_updated\":\"2021-08-26T21:21:00.000Z\"},{\"MAX(ac.country_code)\":\"IR\",\"lat\":32.427908,\"lng\":53.688046,\"country\":\"Iran\",\"daily_cases\":36758,\"daily_deaths\":694,\"last_updated\":\"2021-08-26T21:21:00.000Z\"},{\"MAX(ac.country_code)\":\"BR\",\"lat\":-14.235004,\"lng\":-51.92528,\"country\":\"Brazil\",\"daily_cases\":31024,\"daily_deaths\":835,\"last_updated\":\"2021-08-26T21:21:00.000Z\"}]\n"
          ],
          "name": "stdout"
        }
      ]
    },
    {
      "cell_type": "markdown",
      "metadata": {
        "id": "T0hESivwGuke"
      },
      "source": [
        "# Tarefa 2\n",
        "\n",
        "## Engenharia reversa\n",
        "\n",
        "Monte um diagramas que representem modelos dos dados que você terá acesso e como pretende associá-los. Coloque abaixo uma imagem do diagrama."
      ]
    },
    {
      "cell_type": "code",
      "metadata": {
        "id": "3ocgHUv4Gukf"
      },
      "source": [
        ""
      ],
      "execution_count": null,
      "outputs": []
    }
  ]
}